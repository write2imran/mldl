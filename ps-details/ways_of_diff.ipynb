{
 "cells": [
  {
   "cell_type": "markdown",
   "id": "33cf9ab9",
   "metadata": {},
   "source": [
    "# Differentiation\n",
    "\n",
    "## Three ways"
   ]
  },
  {
   "cell_type": "markdown",
   "id": "d7e753b5",
   "metadata": {},
   "source": [
    "### Numerical Differentiation\n",
    "\n",
    "Applying the process of approximation of the derivative of a given function at a point.\n",
    "\n",
    "SciPy provides two different procedures \n",
    "    1 For Generic univariate fucntions, the central difference forumula with fixed spacing.\n",
    "    2 Numerical differentiation using the Cauchy's theorem, that transform derivative into a definite integral. This intergral \n",
    "            then treated with the techniques of numerical integration explained in the upcoming section.\n",
    "           "
   ]
  },
  {
   "cell_type": "markdown",
   "id": "44a3c67a",
   "metadata": {},
   "source": [
    "### Symbolic differentiation"
   ]
  },
  {
   "cell_type": "markdown",
   "id": "8a77f131",
   "metadata": {},
   "source": [
    "It refers to computation of functional expressions of derivatives of functions"
   ]
  },
  {
   "cell_type": "markdown",
   "id": "2aed2a81",
   "metadata": {},
   "source": [
    "### Automatic differentiation"
   ]
  },
  {
   "cell_type": "markdown",
   "id": "e7c03940",
   "metadata": {},
   "source": [
    "Another set of techniques to numerically evaluate the derivative of a functions. It is not based upon any approximation schema. This is without a doubt the most powerful option in the context of high derivatives of multivariate functions."
   ]
  },
  {
   "cell_type": "markdown",
   "id": "876461ac",
   "metadata": {},
   "source": [
    "In order to calcualte the numerical differentiation is performed with the central difference forumula with uniformally spaced nodes. To maintain symmetry, an odd number of nodes is required to guarantee smaller roundoff erros.\n",
    "\n",
    "f(x) = x**5"
   ]
  },
  {
   "cell_type": "code",
   "execution_count": 1,
   "id": "1fb8e969",
   "metadata": {},
   "outputs": [],
   "source": [
    "import numpy as np"
   ]
  },
  {
   "cell_type": "code",
   "execution_count": 2,
   "id": "fed84fbe",
   "metadata": {},
   "outputs": [],
   "source": [
    "from scipy.misc import derivative"
   ]
  },
  {
   "cell_type": "code",
   "execution_count": 3,
   "id": "cd12ceb0",
   "metadata": {},
   "outputs": [],
   "source": [
    "def f(x): return x**5"
   ]
  },
  {
   "cell_type": "code",
   "execution_count": 4,
   "id": "d3c57a2f",
   "metadata": {},
   "outputs": [
    {
     "data": {
      "text/plain": [
       "4.999999999722702"
      ]
     },
     "execution_count": 4,
     "metadata": {},
     "output_type": "execute_result"
    }
   ],
   "source": [
    "derivative(f, 1.0, dx=1e-6, order=15) # 1st Derivative"
   ]
  },
  {
   "cell_type": "code",
   "execution_count": 5,
   "id": "24dd66ce",
   "metadata": {},
   "outputs": [
    {
     "data": {
      "text/plain": [
       "19.998684591419273"
      ]
     },
     "execution_count": 5,
     "metadata": {},
     "output_type": "execute_result"
    }
   ],
   "source": [
    "derivative(f, 1.0, dx=1e-6, order=15, n=2) # 2nd Derivative"
   ]
  },
  {
   "cell_type": "markdown",
   "id": "e125dc36",
   "metadata": {},
   "source": [
    "Both derivates are somehow accurate but not same as actual values 5 and 20"
   ]
  },
  {
   "cell_type": "markdown",
   "id": "342eddd4",
   "metadata": {},
   "source": [
    "### Symbolic differentiation"
   ]
  },
  {
   "cell_type": "code",
   "execution_count": 8,
   "id": "ca5afe9e",
   "metadata": {},
   "outputs": [],
   "source": [
    "p = np.poly1d([1,0,0,0,0,0]) # Define a polynomial"
   ]
  },
  {
   "cell_type": "code",
   "execution_count": 9,
   "id": "51c1992a",
   "metadata": {},
   "outputs": [
    {
     "data": {
      "text/plain": [
       "poly1d([1, 0, 0, 0, 0, 0])"
      ]
     },
     "execution_count": 9,
     "metadata": {},
     "output_type": "execute_result"
    }
   ],
   "source": [
    "p"
   ]
  },
  {
   "cell_type": "code",
   "execution_count": 14,
   "id": "ccf6bea9",
   "metadata": {},
   "outputs": [
    {
     "data": {
      "text/plain": [
       "5.0"
      ]
     },
     "execution_count": 14,
     "metadata": {},
     "output_type": "execute_result"
    }
   ],
   "source": [
    "np.polyder(p,1)(1.0) # First derivative"
   ]
  },
  {
   "cell_type": "code",
   "execution_count": 15,
   "id": "e75488a0",
   "metadata": {},
   "outputs": [
    {
     "data": {
      "text/plain": [
       "20.0"
      ]
     },
     "execution_count": 15,
     "metadata": {},
     "output_type": "execute_result"
    }
   ],
   "source": [
    "np.polyder(p,2)(1.0) # 2nd Derivative"
   ]
  },
  {
   "cell_type": "code",
   "execution_count": 17,
   "id": "bf461ac0",
   "metadata": {},
   "outputs": [
    {
     "data": {
      "text/plain": [
       "5.0"
      ]
     },
     "execution_count": 17,
     "metadata": {},
     "output_type": "execute_result"
    }
   ],
   "source": [
    "p.deriv()(1.0)"
   ]
  },
  {
   "cell_type": "code",
   "execution_count": 20,
   "id": "6933f29e",
   "metadata": {},
   "outputs": [
    {
     "data": {
      "text/plain": [
       "20.0"
      ]
     },
     "execution_count": 20,
     "metadata": {},
     "output_type": "execute_result"
    }
   ],
   "source": [
    "p.deriv(2)(1.0)"
   ]
  },
  {
   "cell_type": "markdown",
   "id": "ff1b292f",
   "metadata": {},
   "source": [
    "TBD..."
   ]
  },
  {
   "cell_type": "code",
   "execution_count": null,
   "id": "58bcd724",
   "metadata": {},
   "outputs": [],
   "source": []
  }
 ],
 "metadata": {
  "kernelspec": {
   "display_name": "py39",
   "language": "python",
   "name": "py39"
  },
  "language_info": {
   "codemirror_mode": {
    "name": "ipython",
    "version": 3
   },
   "file_extension": ".py",
   "mimetype": "text/x-python",
   "name": "python",
   "nbconvert_exporter": "python",
   "pygments_lexer": "ipython3",
   "version": "3.9.7"
  }
 },
 "nbformat": 4,
 "nbformat_minor": 5
}
